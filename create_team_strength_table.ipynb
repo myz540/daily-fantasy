{
 "cells": [
  {
   "cell_type": "code",
   "execution_count": 21,
   "metadata": {
    "collapsed": true
   },
   "outputs": [],
   "source": [
    "import pandas as pd"
   ]
  },
  {
   "cell_type": "code",
   "execution_count": 22,
   "metadata": {},
   "outputs": [
    {
     "data": {
      "text/html": [
       "<div>\n",
       "<style>\n",
       "    .dataframe thead tr:only-child th {\n",
       "        text-align: right;\n",
       "    }\n",
       "\n",
       "    .dataframe thead th {\n",
       "        text-align: left;\n",
       "    }\n",
       "\n",
       "    .dataframe tbody tr th {\n",
       "        vertical-align: top;\n",
       "    }\n",
       "</style>\n",
       "<table border=\"1\" class=\"dataframe\">\n",
       "  <thead>\n",
       "    <tr style=\"text-align: right;\">\n",
       "      <th></th>\n",
       "      <th>Player</th>\n",
       "      <th>Team</th>\n",
       "      <th>Opponent</th>\n",
       "      <th>Location</th>\n",
       "      <th>Pts</th>\n",
       "      <th>Att</th>\n",
       "      <th>Cmp</th>\n",
       "      <th>Yds</th>\n",
       "      <th>TD</th>\n",
       "      <th>Int</th>\n",
       "      <th>...</th>\n",
       "      <th>Rush 2Pt</th>\n",
       "      <th>Rec</th>\n",
       "      <th>Rec Yds</th>\n",
       "      <th>Rec TD</th>\n",
       "      <th>Rec 2Pt</th>\n",
       "      <th>FL</th>\n",
       "      <th>Misc TD</th>\n",
       "      <th>Week</th>\n",
       "      <th>Year</th>\n",
       "      <th>Position</th>\n",
       "    </tr>\n",
       "  </thead>\n",
       "  <tbody>\n",
       "    <tr>\n",
       "      <th>0</th>\n",
       "      <td>Arian Foster</td>\n",
       "      <td>HOU</td>\n",
       "      <td>@IND</td>\n",
       "      <td>away</td>\n",
       "      <td>42.0</td>\n",
       "      <td>0</td>\n",
       "      <td>0</td>\n",
       "      <td>0</td>\n",
       "      <td>0</td>\n",
       "      <td>0</td>\n",
       "      <td>...</td>\n",
       "      <td>0</td>\n",
       "      <td>1</td>\n",
       "      <td>7</td>\n",
       "      <td>0</td>\n",
       "      <td>0</td>\n",
       "      <td>0</td>\n",
       "      <td>0</td>\n",
       "      <td>1</td>\n",
       "      <td>2010</td>\n",
       "      <td>RB</td>\n",
       "    </tr>\n",
       "    <tr>\n",
       "      <th>1</th>\n",
       "      <td>Matt Forte</td>\n",
       "      <td>CHI</td>\n",
       "      <td>@DET</td>\n",
       "      <td>away</td>\n",
       "      <td>38.0</td>\n",
       "      <td>0</td>\n",
       "      <td>0</td>\n",
       "      <td>0</td>\n",
       "      <td>0</td>\n",
       "      <td>0</td>\n",
       "      <td>...</td>\n",
       "      <td>0</td>\n",
       "      <td>7</td>\n",
       "      <td>151</td>\n",
       "      <td>2</td>\n",
       "      <td>0</td>\n",
       "      <td>1</td>\n",
       "      <td>0</td>\n",
       "      <td>1</td>\n",
       "      <td>2010</td>\n",
       "      <td>RB</td>\n",
       "    </tr>\n",
       "    <tr>\n",
       "      <th>2</th>\n",
       "      <td>Peyton Manning</td>\n",
       "      <td>IND</td>\n",
       "      <td>HOU</td>\n",
       "      <td>home</td>\n",
       "      <td>35.0</td>\n",
       "      <td>57</td>\n",
       "      <td>40</td>\n",
       "      <td>433</td>\n",
       "      <td>3</td>\n",
       "      <td>0</td>\n",
       "      <td>...</td>\n",
       "      <td>0</td>\n",
       "      <td>0</td>\n",
       "      <td>0</td>\n",
       "      <td>0</td>\n",
       "      <td>0</td>\n",
       "      <td>0</td>\n",
       "      <td>0</td>\n",
       "      <td>1</td>\n",
       "      <td>2010</td>\n",
       "      <td>QB</td>\n",
       "    </tr>\n",
       "    <tr>\n",
       "      <th>3</th>\n",
       "      <td>Chad Johnson</td>\n",
       "      <td>CIN</td>\n",
       "      <td>NE</td>\n",
       "      <td>home</td>\n",
       "      <td>33.0</td>\n",
       "      <td>0</td>\n",
       "      <td>0</td>\n",
       "      <td>0</td>\n",
       "      <td>0</td>\n",
       "      <td>0</td>\n",
       "      <td>...</td>\n",
       "      <td>0</td>\n",
       "      <td>12</td>\n",
       "      <td>159</td>\n",
       "      <td>1</td>\n",
       "      <td>0</td>\n",
       "      <td>0</td>\n",
       "      <td>0</td>\n",
       "      <td>1</td>\n",
       "      <td>2010</td>\n",
       "      <td>WR</td>\n",
       "    </tr>\n",
       "    <tr>\n",
       "      <th>4</th>\n",
       "      <td>Austin Collie</td>\n",
       "      <td>IND</td>\n",
       "      <td>HOU</td>\n",
       "      <td>home</td>\n",
       "      <td>32.0</td>\n",
       "      <td>0</td>\n",
       "      <td>0</td>\n",
       "      <td>0</td>\n",
       "      <td>0</td>\n",
       "      <td>0</td>\n",
       "      <td>...</td>\n",
       "      <td>0</td>\n",
       "      <td>11</td>\n",
       "      <td>163</td>\n",
       "      <td>1</td>\n",
       "      <td>0</td>\n",
       "      <td>1</td>\n",
       "      <td>0</td>\n",
       "      <td>1</td>\n",
       "      <td>2010</td>\n",
       "      <td>WR</td>\n",
       "    </tr>\n",
       "  </tbody>\n",
       "</table>\n",
       "<p>5 rows × 24 columns</p>\n",
       "</div>"
      ],
      "text/plain": [
       "           Player Team Opponent Location   Pts  Att  Cmp  Yds  TD  Int  \\\n",
       "0    Arian Foster  HOU     @IND     away  42.0    0    0    0   0    0   \n",
       "1      Matt Forte  CHI     @DET     away  38.0    0    0    0   0    0   \n",
       "2  Peyton Manning  IND      HOU     home  35.0   57   40  433   3    0   \n",
       "3    Chad Johnson  CIN       NE     home  33.0    0    0    0   0    0   \n",
       "4   Austin Collie  IND      HOU     home  32.0    0    0    0   0    0   \n",
       "\n",
       "     ...     Rush 2Pt  Rec  Rec Yds  Rec TD  Rec 2Pt  FL  Misc TD  Week  Year  \\\n",
       "0    ...            0    1        7       0        0   0        0     1  2010   \n",
       "1    ...            0    7      151       2        0   1        0     1  2010   \n",
       "2    ...            0    0        0       0        0   0        0     1  2010   \n",
       "3    ...            0   12      159       1        0   0        0     1  2010   \n",
       "4    ...            0   11      163       1        0   1        0     1  2010   \n",
       "\n",
       "   Position  \n",
       "0        RB  \n",
       "1        RB  \n",
       "2        QB  \n",
       "3        WR  \n",
       "4        WR  \n",
       "\n",
       "[5 rows x 24 columns]"
      ]
     },
     "execution_count": 22,
     "metadata": {},
     "output_type": "execute_result"
    }
   ],
   "source": [
    "df = pd.read_csv('./data/full_data_set.csv')\n",
    "df.head()"
   ]
  },
  {
   "cell_type": "code",
   "execution_count": 23,
   "metadata": {
    "scrolled": true
   },
   "outputs": [
    {
     "data": {
      "text/plain": [
       "(12800, 24)"
      ]
     },
     "execution_count": 23,
     "metadata": {},
     "output_type": "execute_result"
    }
   ],
   "source": [
    "df.shape"
   ]
  },
  {
   "cell_type": "markdown",
   "metadata": {},
   "source": [
    "We want a table that captures team strength based on a rolling average\n",
    "\n",
    "* Team\n",
    "* Offensive Pass Rank\n",
    "* Offensive Rec Rank\n",
    "* Offensive Rush Rank\n",
    "* Defensive Pass Points vs. Average\n",
    "* Defensive Rec Points vs. Average\n",
    "* Defensive Rush Points vs. Average\n",
    "* Defensive Pass Rank\n",
    "* Defensive Rec Rank\n",
    "* Defensive Rush Rank"
   ]
  },
  {
   "cell_type": "code",
   "execution_count": 24,
   "metadata": {},
   "outputs": [
    {
     "data": {
      "text/plain": [
       "array(['HOU', 'CHI', 'IND', 'CIN', 'TEN', 'DAL', 'NYG', 'NE', 'OAK', 'JAX',\n",
       "       'ATL', 'PHI', 'SD', 'SEA', 'PIT', 'STL', 'TB', 'ARI', 'DET', 'GB',\n",
       "       'CAR', 'BAL', 'NO', 'MIN', 'DEN', 'KC', 'MIA', 'CLE', 'SF', 'WAS',\n",
       "       'BUF', 'NYJ', 'LA', 'LAC'], dtype=object)"
      ]
     },
     "execution_count": 24,
     "metadata": {},
     "output_type": "execute_result"
    }
   ],
   "source": [
    "teams = df.loc[:, 'Team'].unique()\n",
    "teams"
   ]
  },
  {
   "cell_type": "code",
   "execution_count": null,
   "metadata": {
    "collapsed": true
   },
   "outputs": [],
   "source": [
    "class TeamDataMunger:\n",
    "    \n",
    "    def __init__(self, df):\n",
    "        self.df = df\n",
    "        self.teams = df['Team'].unique()\n",
    "        self.pos = df['Pos'].unique()\n",
    "\n",
    "    def get_team_strength_stats(self, week, year):\n",
    "\n",
    "        # need to consider bye weeks, how to deal with them\n",
    "\n",
    "        lower_bound = week-3 if week-3 > 1 else 1\n",
    "\n",
    "        df = self.df[(self.df.loc[:, 'Week'] <= week) & \\\n",
    "                     (self.df.loc[:, 'Year'] == year) & \\\n",
    "                     (self.df.loc[:, 'Week'] <= lower_bound)]\n",
    "\n",
    "        \n",
    "\n",
    "\n",
    "    def get_defensive_pass_points_vs_average(self):\n",
    "        pass\n",
    "    "
   ]
  },
  {
   "cell_type": "code",
   "execution_count": null,
   "metadata": {
    "collapsed": true
   },
   "outputs": [],
   "source": [
    "munger = TeamDataMunger(df)"
   ]
  },
  {
   "cell_type": "code",
   "execution_count": null,
   "metadata": {
    "collapsed": true
   },
   "outputs": [],
   "source": [
    "munger.get_team_strength_stats(16, 2017)"
   ]
  }
 ],
 "metadata": {
  "kernelspec": {
   "display_name": "Python 3",
   "language": "python",
   "name": "python3"
  },
  "language_info": {
   "codemirror_mode": {
    "name": "ipython",
    "version": 3
   },
   "file_extension": ".py",
   "mimetype": "text/x-python",
   "name": "python",
   "nbconvert_exporter": "python",
   "pygments_lexer": "ipython3",
   "version": "3.6.0"
  }
 },
 "nbformat": 4,
 "nbformat_minor": 2
}
